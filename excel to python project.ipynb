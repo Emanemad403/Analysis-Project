{
 "cells": [
  {
   "cell_type": "markdown",
   "id": "464b5394-0525-4c33-902d-057daef7d516",
   "metadata": {},
   "source": [
    "In this data we will kmow how many famylies in calfornia back then and the medina income , total population , how many houses neaer the ocean or in ilesnd or near by and how many rooms , bedrooms , median value of the houses back then , median ages\n",
    "it will help us to compare it to the numbers that we have for calfornia right now "
   ]
  },
  {
   "cell_type": "code",
   "execution_count": 2,
   "id": "bf57ae52-6a6c-489b-8d9c-3b35f4f90b40",
   "metadata": {},
   "outputs": [],
   "source": [
    "import pandas as pd"
   ]
  },
  {
   "cell_type": "code",
   "execution_count": 3,
   "id": "9c8454cc-be30-477b-88cf-3fd13088749e",
   "metadata": {},
   "outputs": [],
   "source": [
    "df = pd.read_csv(\"housing.csv\")"
   ]
  },
  {
   "cell_type": "code",
   "execution_count": 4,
   "id": "4c8b22ac-dc1d-4591-b692-7c7d77c63870",
   "metadata": {},
   "outputs": [
    {
     "data": {
      "text/html": [
       "<div>\n",
       "<style scoped>\n",
       "    .dataframe tbody tr th:only-of-type {\n",
       "        vertical-align: middle;\n",
       "    }\n",
       "\n",
       "    .dataframe tbody tr th {\n",
       "        vertical-align: top;\n",
       "    }\n",
       "\n",
       "    .dataframe thead th {\n",
       "        text-align: right;\n",
       "    }\n",
       "</style>\n",
       "<table border=\"1\" class=\"dataframe\">\n",
       "  <thead>\n",
       "    <tr style=\"text-align: right;\">\n",
       "      <th></th>\n",
       "      <th>longitude</th>\n",
       "      <th>latitude</th>\n",
       "      <th>housing_median_age</th>\n",
       "      <th>total_rooms</th>\n",
       "      <th>total_bedrooms</th>\n",
       "      <th>population</th>\n",
       "      <th>households</th>\n",
       "      <th>median_income</th>\n",
       "      <th>median_house_value</th>\n",
       "      <th>ocean_proximity</th>\n",
       "    </tr>\n",
       "  </thead>\n",
       "  <tbody>\n",
       "    <tr>\n",
       "      <th>0</th>\n",
       "      <td>-122.23</td>\n",
       "      <td>37.88</td>\n",
       "      <td>41.0</td>\n",
       "      <td>880.0</td>\n",
       "      <td>129.0</td>\n",
       "      <td>322.0</td>\n",
       "      <td>126.0</td>\n",
       "      <td>8.3252</td>\n",
       "      <td>452600.0</td>\n",
       "      <td>NEAR BAY</td>\n",
       "    </tr>\n",
       "    <tr>\n",
       "      <th>1</th>\n",
       "      <td>-122.22</td>\n",
       "      <td>37.86</td>\n",
       "      <td>21.0</td>\n",
       "      <td>7099.0</td>\n",
       "      <td>1106.0</td>\n",
       "      <td>2401.0</td>\n",
       "      <td>1138.0</td>\n",
       "      <td>8.3014</td>\n",
       "      <td>358500.0</td>\n",
       "      <td>NEAR BAY</td>\n",
       "    </tr>\n",
       "    <tr>\n",
       "      <th>2</th>\n",
       "      <td>-122.24</td>\n",
       "      <td>37.85</td>\n",
       "      <td>52.0</td>\n",
       "      <td>1467.0</td>\n",
       "      <td>190.0</td>\n",
       "      <td>496.0</td>\n",
       "      <td>177.0</td>\n",
       "      <td>7.2574</td>\n",
       "      <td>352100.0</td>\n",
       "      <td>NEAR BAY</td>\n",
       "    </tr>\n",
       "    <tr>\n",
       "      <th>3</th>\n",
       "      <td>-122.25</td>\n",
       "      <td>37.85</td>\n",
       "      <td>52.0</td>\n",
       "      <td>1274.0</td>\n",
       "      <td>235.0</td>\n",
       "      <td>558.0</td>\n",
       "      <td>219.0</td>\n",
       "      <td>5.6431</td>\n",
       "      <td>341300.0</td>\n",
       "      <td>NEAR BAY</td>\n",
       "    </tr>\n",
       "    <tr>\n",
       "      <th>4</th>\n",
       "      <td>-122.25</td>\n",
       "      <td>37.85</td>\n",
       "      <td>52.0</td>\n",
       "      <td>1627.0</td>\n",
       "      <td>280.0</td>\n",
       "      <td>565.0</td>\n",
       "      <td>259.0</td>\n",
       "      <td>3.8462</td>\n",
       "      <td>342200.0</td>\n",
       "      <td>NEAR BAY</td>\n",
       "    </tr>\n",
       "  </tbody>\n",
       "</table>\n",
       "</div>"
      ],
      "text/plain": [
       "   longitude  latitude  housing_median_age  total_rooms  total_bedrooms  \\\n",
       "0    -122.23     37.88                41.0        880.0           129.0   \n",
       "1    -122.22     37.86                21.0       7099.0          1106.0   \n",
       "2    -122.24     37.85                52.0       1467.0           190.0   \n",
       "3    -122.25     37.85                52.0       1274.0           235.0   \n",
       "4    -122.25     37.85                52.0       1627.0           280.0   \n",
       "\n",
       "   population  households  median_income  median_house_value ocean_proximity  \n",
       "0       322.0       126.0         8.3252            452600.0        NEAR BAY  \n",
       "1      2401.0      1138.0         8.3014            358500.0        NEAR BAY  \n",
       "2       496.0       177.0         7.2574            352100.0        NEAR BAY  \n",
       "3       558.0       219.0         5.6431            341300.0        NEAR BAY  \n",
       "4       565.0       259.0         3.8462            342200.0        NEAR BAY  "
      ]
     },
     "execution_count": 4,
     "metadata": {},
     "output_type": "execute_result"
    }
   ],
   "source": [
    "df.head()"
   ]
  },
  {
   "cell_type": "code",
   "execution_count": 5,
   "id": "98797ab2-ea17-41ac-a97d-7b9c9b82e4e6",
   "metadata": {},
   "outputs": [
    {
     "name": "stdout",
     "output_type": "stream",
     "text": [
      "<class 'pandas.core.frame.DataFrame'>\n",
      "RangeIndex: 20640 entries, 0 to 20639\n",
      "Data columns (total 10 columns):\n",
      " #   Column              Non-Null Count  Dtype  \n",
      "---  ------              --------------  -----  \n",
      " 0   longitude           20640 non-null  float64\n",
      " 1   latitude            20640 non-null  float64\n",
      " 2   housing_median_age  20640 non-null  float64\n",
      " 3   total_rooms         20640 non-null  float64\n",
      " 4   total_bedrooms      20433 non-null  float64\n",
      " 5   population          20640 non-null  float64\n",
      " 6   households          20640 non-null  float64\n",
      " 7   median_income       20640 non-null  float64\n",
      " 8   median_house_value  20640 non-null  float64\n",
      " 9   ocean_proximity     20640 non-null  object \n",
      "dtypes: float64(9), object(1)\n",
      "memory usage: 1.6+ MB\n"
     ]
    }
   ],
   "source": [
    "df.info()"
   ]
  },
  {
   "cell_type": "markdown",
   "id": "d6bc8de8-5ccc-49e9-aa6a-318840204466",
   "metadata": {},
   "source": [
    "1-How much the median income in all the blocks\n"
   ]
  },
  {
   "cell_type": "code",
   "execution_count": 64,
   "id": "9faaf05d-ad0b-48e2-8b1d-cfdb4ac719ca",
   "metadata": {},
   "outputs": [
    {
     "data": {
      "text/plain": [
       "3.5347999999999997"
      ]
     },
     "execution_count": 64,
     "metadata": {},
     "output_type": "execute_result"
    }
   ],
   "source": [
    "df[\"median_income\"].median()"
   ]
  },
  {
   "cell_type": "code",
   "execution_count": 65,
   "id": "772331ca-064a-441b-912e-cf0a9163797d",
   "metadata": {},
   "outputs": [
    {
     "name": "stdout",
     "output_type": "stream",
     "text": [
      "   median_income\n",
      "0         3.5348\n"
     ]
    }
   ],
   "source": [
    "data = {\n",
    "  \"median_income\":[3.5347999999999997],\n",
    "}\n",
    "\n",
    "#load data into a DataFrame object:\n",
    "question1= pd.DataFrame(data)\n",
    "\n",
    "print(question1) "
   ]
  },
  {
   "cell_type": "code",
   "execution_count": 66,
   "id": "545a018a-323e-49ae-a43e-60e52b4b3a66",
   "metadata": {},
   "outputs": [],
   "source": [
    "question1.to_csv(\"question1.csv\")"
   ]
  },
  {
   "cell_type": "markdown",
   "id": "9c31abef-c7cf-4c89-8753-f21d0b72ebf2",
   "metadata": {},
   "source": [
    "2-Total Rooms in calfornia\n"
   ]
  },
  {
   "cell_type": "code",
   "execution_count": 9,
   "id": "dc6e8009-2aaf-414b-b45e-5ca403dab9e1",
   "metadata": {},
   "outputs": [],
   "source": [
    "qustion2 = df['total_rooms'].value_counts()"
   ]
  },
  {
   "cell_type": "code",
   "execution_count": 10,
   "id": "e8dcd0de-8bca-44a9-bd98-0871e2a309a6",
   "metadata": {},
   "outputs": [],
   "source": [
    "qustion2.to_csv(\"qustion2.csv\")"
   ]
  },
  {
   "cell_type": "code",
   "execution_count": 11,
   "id": "9d75a108-bf46-4879-92a4-d896a5f4b5ec",
   "metadata": {},
   "outputs": [],
   "source": [
    "df2 = pd.read_csv(\"qustion2.csv\")"
   ]
  },
  {
   "cell_type": "code",
   "execution_count": 12,
   "id": "e454189b-413c-4ef2-8458-f08760dcc3d5",
   "metadata": {},
   "outputs": [
    {
     "data": {
      "text/html": [
       "<div>\n",
       "<style scoped>\n",
       "    .dataframe tbody tr th:only-of-type {\n",
       "        vertical-align: middle;\n",
       "    }\n",
       "\n",
       "    .dataframe tbody tr th {\n",
       "        vertical-align: top;\n",
       "    }\n",
       "\n",
       "    .dataframe thead th {\n",
       "        text-align: right;\n",
       "    }\n",
       "</style>\n",
       "<table border=\"1\" class=\"dataframe\">\n",
       "  <thead>\n",
       "    <tr style=\"text-align: right;\">\n",
       "      <th></th>\n",
       "      <th>Unnamed: 0</th>\n",
       "      <th>total_rooms</th>\n",
       "    </tr>\n",
       "  </thead>\n",
       "  <tbody>\n",
       "    <tr>\n",
       "      <th>0</th>\n",
       "      <td>1527.0</td>\n",
       "      <td>18</td>\n",
       "    </tr>\n",
       "    <tr>\n",
       "      <th>1</th>\n",
       "      <td>1613.0</td>\n",
       "      <td>17</td>\n",
       "    </tr>\n",
       "    <tr>\n",
       "      <th>2</th>\n",
       "      <td>1582.0</td>\n",
       "      <td>17</td>\n",
       "    </tr>\n",
       "    <tr>\n",
       "      <th>3</th>\n",
       "      <td>2127.0</td>\n",
       "      <td>16</td>\n",
       "    </tr>\n",
       "    <tr>\n",
       "      <th>4</th>\n",
       "      <td>1717.0</td>\n",
       "      <td>15</td>\n",
       "    </tr>\n",
       "  </tbody>\n",
       "</table>\n",
       "</div>"
      ],
      "text/plain": [
       "   Unnamed: 0  total_rooms\n",
       "0      1527.0           18\n",
       "1      1613.0           17\n",
       "2      1582.0           17\n",
       "3      2127.0           16\n",
       "4      1717.0           15"
      ]
     },
     "execution_count": 12,
     "metadata": {},
     "output_type": "execute_result"
    }
   ],
   "source": [
    "df2.head()"
   ]
  },
  {
   "cell_type": "markdown",
   "id": "b8c8e0ba-d602-49e7-ad0f-f6970cb53b26",
   "metadata": {},
   "source": [
    "3- what is total of the poplution in calfornia?\n"
   ]
  },
  {
   "cell_type": "code",
   "execution_count": 13,
   "id": "b7189988-746b-44d3-bec2-067e195d3520",
   "metadata": {},
   "outputs": [
    {
     "name": "stdout",
     "output_type": "stream",
     "text": [
      "29421840.0\n"
     ]
    }
   ],
   "source": [
    "x=df[\"population\"]\n",
    "total=sum(x)\n",
    "print(total)\n"
   ]
  },
  {
   "cell_type": "code",
   "execution_count": 14,
   "id": "4eced86a-ddff-47e4-873d-8a2e6b6b271f",
   "metadata": {},
   "outputs": [
    {
     "data": {
      "text/plain": [
       "0         322.0\n",
       "1        2401.0\n",
       "2         496.0\n",
       "3         558.0\n",
       "4         565.0\n",
       "          ...  \n",
       "20635     845.0\n",
       "20636     356.0\n",
       "20637    1007.0\n",
       "20638     741.0\n",
       "20639    1387.0\n",
       "Name: population, Length: 20640, dtype: float64"
      ]
     },
     "execution_count": 14,
     "metadata": {},
     "output_type": "execute_result"
    }
   ],
   "source": [
    "x"
   ]
  },
  {
   "cell_type": "code",
   "execution_count": 15,
   "id": "93ef5f9d-8913-4d60-8603-7884d2b719cc",
   "metadata": {},
   "outputs": [],
   "source": [
    "x.to_csv(\"qustion3.csv\")"
   ]
  },
  {
   "cell_type": "markdown",
   "id": "f99cde93-9f48-4aa3-ab2e-184e1d774ec2",
   "metadata": {},
   "source": [
    "4-Total of Housholds"
   ]
  },
  {
   "cell_type": "code",
   "execution_count": 16,
   "id": "56b656b7-e73c-41f1-9be0-0e3603ecf384",
   "metadata": {},
   "outputs": [
    {
     "name": "stdout",
     "output_type": "stream",
     "text": [
      "10310499.0\n"
     ]
    }
   ],
   "source": [
    "z=df[\"households\"]\n",
    "total=sum(z)\n",
    "print(total)"
   ]
  },
  {
   "cell_type": "code",
   "execution_count": 17,
   "id": "b367a7b2-e725-4c10-a280-7814fbd29e29",
   "metadata": {},
   "outputs": [
    {
     "data": {
      "text/plain": [
       "0         126.0\n",
       "1        1138.0\n",
       "2         177.0\n",
       "3         219.0\n",
       "4         259.0\n",
       "          ...  \n",
       "20635     330.0\n",
       "20636     114.0\n",
       "20637     433.0\n",
       "20638     349.0\n",
       "20639     530.0\n",
       "Name: households, Length: 20640, dtype: float64"
      ]
     },
     "execution_count": 17,
     "metadata": {},
     "output_type": "execute_result"
    }
   ],
   "source": [
    "z"
   ]
  },
  {
   "cell_type": "code",
   "execution_count": 18,
   "id": "5f6bf2a9-834e-4954-872c-2164bcc34ca4",
   "metadata": {},
   "outputs": [],
   "source": [
    "z.to_csv(\"qustion4.csv\")"
   ]
  },
  {
   "cell_type": "markdown",
   "id": "7c098343-aee2-446e-b43f-a0494ffa9e91",
   "metadata": {},
   "source": [
    " 5- Max of median_house_value "
   ]
  },
  {
   "cell_type": "code",
   "execution_count": 19,
   "id": "68e550f6-01c4-40ac-9be9-53dd8f6449fe",
   "metadata": {},
   "outputs": [
    {
     "data": {
      "text/plain": [
       "500001.0"
      ]
     },
     "execution_count": 19,
     "metadata": {},
     "output_type": "execute_result"
    }
   ],
   "source": [
    "df[\"median_house_value\"].max()"
   ]
  },
  {
   "cell_type": "code",
   "execution_count": 20,
   "id": "4ff5a613-aa34-4127-b733-36d4e10c4122",
   "metadata": {},
   "outputs": [
    {
     "name": "stdout",
     "output_type": "stream",
     "text": [
      "   median_house_value\n",
      "0            500001.0\n"
     ]
    }
   ],
   "source": [
    "data = {\n",
    "  \"median_house_value\":[500001.0],\n",
    "}\n",
    "\n",
    "#load data into a DataFrame object:\n",
    "qustion5 = pd.DataFrame(data)\n",
    "\n",
    "print(qustion5) "
   ]
  },
  {
   "cell_type": "code",
   "execution_count": 21,
   "id": "4820d64d-0037-42b3-8358-f5e74c9d692f",
   "metadata": {},
   "outputs": [],
   "source": [
    "qustion5.to_csv(\"qustion5.csv\")"
   ]
  },
  {
   "cell_type": "markdown",
   "id": "3543c16a-5984-4260-b356-b7fcc7a75829",
   "metadata": {},
   "source": [
    "6-How many households are INLAND?"
   ]
  },
  {
   "cell_type": "code",
   "execution_count": 22,
   "id": "6446ef3f-fc88-42b3-ae79-f5416beca371",
   "metadata": {},
   "outputs": [
    {
     "name": "stdout",
     "output_type": "stream",
     "text": [
      "954       208.0\n",
      "957      1115.0\n",
      "965       286.0\n",
      "967       577.0\n",
      "968       324.0\n",
      "          ...  \n",
      "20635     330.0\n",
      "20636     114.0\n",
      "20637     433.0\n",
      "20638     349.0\n",
      "20639     530.0\n",
      "Name: households, Length: 6551, dtype: float64\n"
     ]
    }
   ],
   "source": [
    "question6=df[df[\"ocean_proximity\"]==\"INLAND\"][\"households\"]\n",
    "print(question6)"
   ]
  },
  {
   "cell_type": "code",
   "execution_count": 23,
   "id": "3b3e063a-c9c7-4ebf-adb3-bb71534dfe67",
   "metadata": {},
   "outputs": [],
   "source": [
    "question6.to_csv(\"question6.csv\")"
   ]
  },
  {
   "cell_type": "markdown",
   "id": "9e141e0a-b7db-40e4-9521-3e34c968c2ec",
   "metadata": {},
   "source": [
    "7-How many households NEAR BAY the ocean"
   ]
  },
  {
   "cell_type": "code",
   "execution_count": 24,
   "id": "b13c5225-0feb-4a08-918c-55bc096bb120",
   "metadata": {},
   "outputs": [
    {
     "name": "stdout",
     "output_type": "stream",
     "text": [
      "0         126.0\n",
      "1        1138.0\n",
      "2         177.0\n",
      "3         219.0\n",
      "4         259.0\n",
      "          ...  \n",
      "19067     460.0\n",
      "19068     775.0\n",
      "19069     838.0\n",
      "19077     936.0\n",
      "19104    1029.0\n",
      "Name: households, Length: 2290, dtype: float64\n"
     ]
    }
   ],
   "source": [
    "question7=df[df[\"ocean_proximity\"]==\"NEAR BAY\"][\"households\"]\n",
    "print(question7)"
   ]
  },
  {
   "cell_type": "code",
   "execution_count": 25,
   "id": "f8d5aa4b-f785-49cb-8e0e-dbbd836785b2",
   "metadata": {},
   "outputs": [],
   "source": [
    "question7.to_csv(\"question7.csv\")"
   ]
  },
  {
   "cell_type": "markdown",
   "id": "72601b28-b1fb-4f76-abdb-59b6cc12d0a6",
   "metadata": {},
   "source": [
    "8-How many households one hour away from the ocean"
   ]
  },
  {
   "cell_type": "code",
   "execution_count": 26,
   "id": "7447f344-5f4b-4b74-96c4-f240cc89f86a",
   "metadata": {},
   "outputs": [],
   "source": [
    "qustion8 =df[df[\"ocean_proximity\"]==\"<1H OCEAN\"][\"households\"]"
   ]
  },
  {
   "cell_type": "code",
   "execution_count": 27,
   "id": "35052b44-3948-46b5-8e71-0466e682d290",
   "metadata": {},
   "outputs": [],
   "source": [
    "qustion8.to_csv(\"question8.csv\")"
   ]
  },
  {
   "cell_type": "markdown",
   "id": "6e4871b7-7729-472b-a094-4834fa494564",
   "metadata": {},
   "source": [
    "9_Total bedrooms in calfornia"
   ]
  },
  {
   "cell_type": "code",
   "execution_count": 28,
   "id": "eb4a41c5-8043-4853-8830-b47ee26d306e",
   "metadata": {},
   "outputs": [],
   "source": [
    "question9 =df['total_bedrooms'].value_counts()"
   ]
  },
  {
   "cell_type": "code",
   "execution_count": 29,
   "id": "a15fc76b-9a6a-41bd-b04d-58362aa83945",
   "metadata": {},
   "outputs": [],
   "source": [
    "question9.to_csv(\"question9.csv\")"
   ]
  },
  {
   "cell_type": "markdown",
   "id": "cf008945-2e60-4499-8496-6ba30d68a310",
   "metadata": {},
   "source": [
    "10-ascending from the oldest age to the smallest age"
   ]
  },
  {
   "cell_type": "code",
   "execution_count": 30,
   "id": "ae336cde-9f51-4b66-be05-c7748cb07d0c",
   "metadata": {},
   "outputs": [
    {
     "name": "stdout",
     "output_type": "stream",
     "text": [
      "18881    52.0\n",
      "1671     52.0\n",
      "19116    52.0\n",
      "19516    52.0\n",
      "16200    52.0\n",
      "         ... \n",
      "12077     2.0\n",
      "18972     1.0\n",
      "12286     1.0\n",
      "3130      1.0\n",
      "19536     1.0\n",
      "Name: housing_median_age, Length: 20640, dtype: float64\n"
     ]
    }
   ],
   "source": [
    " question10 =df.sort_values(ascending=False, by = 'housing_median_age').housing_median_age\n",
    "print (question10)"
   ]
  },
  {
   "cell_type": "code",
   "execution_count": 31,
   "id": "5bac8455-8a4f-48a2-bf48-ee6c0bf209b1",
   "metadata": {},
   "outputs": [],
   "source": [
    "question10.to_csv(\"question10.csv\")"
   ]
  },
  {
   "cell_type": "markdown",
   "id": "5ec80f51-8958-4074-bf57-00c5b80f0c74",
   "metadata": {},
   "source": [
    "11- How many poeple  are 41 years old?"
   ]
  },
  {
   "cell_type": "code",
   "execution_count": 32,
   "id": "f48c7a9d-ce79-40dd-8905-3e8f65b6bd87",
   "metadata": {},
   "outputs": [
    {
     "name": "stdout",
     "output_type": "stream",
     "text": [
      "296\n"
     ]
    }
   ],
   "source": [
    "g=df[\"housing_median_age\"]==41\n",
    "total= sum(g)\n",
    "print(total)"
   ]
  },
  {
   "cell_type": "code",
   "execution_count": 33,
   "id": "230dc696-6aed-426c-8538-89914d4eebf2",
   "metadata": {},
   "outputs": [
    {
     "name": "stdout",
     "output_type": "stream",
     "text": [
      "   median_house_value\n",
      "0            500001.0\n"
     ]
    }
   ],
   "source": [
    "ata = {\n",
    "  \"housing_median_age\":[296],\n",
    "}\n",
    "\n",
    "#load data into a DataFrame object:\n",
    "qustion11 = pd.DataFrame(data)\n",
    "\n",
    "print(qustion11) "
   ]
  },
  {
   "cell_type": "code",
   "execution_count": 34,
   "id": "2baecf4b-971c-463f-850a-b4100c7cb36f",
   "metadata": {},
   "outputs": [],
   "source": [
    "qustion11.to_csv(\"qustion11.csv\")"
   ]
  },
  {
   "cell_type": "markdown",
   "id": "dbdab39c-1f43-439e-aadc-dafec7bf1852",
   "metadata": {},
   "source": [
    "12- 10- How many people are 52 years old?"
   ]
  },
  {
   "cell_type": "code",
   "execution_count": 35,
   "id": "bf23c1af-b098-424b-8f59-ecb51f787ada",
   "metadata": {},
   "outputs": [
    {
     "name": "stdout",
     "output_type": "stream",
     "text": [
      "1273\n"
     ]
    }
   ],
   "source": [
    "g=df[\"housing_median_age\"]==52\n",
    "total= sum(g)\n",
    "print(total)"
   ]
  },
  {
   "cell_type": "code",
   "execution_count": 36,
   "id": "b2cec2ec-4407-4247-b8b1-60ab5c71bf58",
   "metadata": {},
   "outputs": [
    {
     "name": "stdout",
     "output_type": "stream",
     "text": [
      "   median_house_value\n",
      "0            500001.0\n"
     ]
    }
   ],
   "source": [
    "ata = {\n",
    "  \"housing_median_age\":[1273],\n",
    "}\n",
    "\n",
    "#load data into a DataFrame object:\n",
    "qustion12 = pd.DataFrame(data)\n",
    "\n",
    "print(qustion12) "
   ]
  },
  {
   "cell_type": "code",
   "execution_count": 37,
   "id": "678c03d2-c5f0-414c-85cb-52f393238056",
   "metadata": {},
   "outputs": [],
   "source": [
    "qustion12.to_csv(\"qustion12.csv\")"
   ]
  },
  {
   "cell_type": "markdown",
   "id": "d895acf7-f992-4e94-83f2-14db3cc6426d",
   "metadata": {},
   "source": [
    "13- How many people are 18 years old?"
   ]
  },
  {
   "cell_type": "code",
   "execution_count": 38,
   "id": "d7fa1ec3-1a84-4560-8924-306432184319",
   "metadata": {},
   "outputs": [
    {
     "name": "stdout",
     "output_type": "stream",
     "text": [
      "570\n"
     ]
    }
   ],
   "source": [
    "g=df[\"housing_median_age\"]==18\n",
    "total= sum(g)\n",
    "print(total)"
   ]
  },
  {
   "cell_type": "code",
   "execution_count": 39,
   "id": "76af4244-a73d-46b4-873d-22a42b477423",
   "metadata": {},
   "outputs": [
    {
     "name": "stdout",
     "output_type": "stream",
     "text": [
      "   housing_median_age\n",
      "0                 570\n"
     ]
    }
   ],
   "source": [
    "data = {\n",
    "  \"housing_median_age\":[570],\n",
    "}\n",
    "\n",
    "#load data into a DataFrame object:\n",
    "qustion13 = pd.DataFrame(data)\n",
    "\n",
    "print(qustion13) "
   ]
  },
  {
   "cell_type": "code",
   "execution_count": 40,
   "id": "b233ff42-9fdd-40e3-a3d6-92cb14b3a11a",
   "metadata": {},
   "outputs": [],
   "source": [
    "qustion13.to_csv(\"qustion13.csv\")"
   ]
  },
  {
   "cell_type": "markdown",
   "id": "e50a2272-69f5-45eb-8d3e-a42be823eeac",
   "metadata": {},
   "source": [
    "14- Ascending from the lowest income to the higher one"
   ]
  },
  {
   "cell_type": "code",
   "execution_count": 41,
   "id": "e5f1a847-ac6b-45fb-83ab-b78c4ab59f57",
   "metadata": {},
   "outputs": [
    {
     "name": "stdout",
     "output_type": "stream",
     "text": [
      "4352     15.0001\n",
      "10673    15.0001\n",
      "8849     15.0001\n",
      "4606     15.0001\n",
      "5257     15.0001\n",
      "          ...   \n",
      "3249      0.4999\n",
      "3258      0.4999\n",
      "6343      0.4999\n",
      "5213      0.4999\n",
      "20091     0.4999\n",
      "Name: median_income, Length: 20640, dtype: float64\n"
     ]
    }
   ],
   "source": [
    "qustion13=df.sort_values(ascending=False, by = 'median_income').median_income\n",
    "print(qustion13)"
   ]
  },
  {
   "cell_type": "code",
   "execution_count": 42,
   "id": "d3369e4d-439e-477f-84cf-5026aafce54e",
   "metadata": {},
   "outputs": [],
   "source": [
    "qustion13.to_csv(\"qustion13.csv\")"
   ]
  },
  {
   "cell_type": "code",
   "execution_count": 68,
   "id": "a78dc1a9-3fd3-4d6c-8a75-a743ffdcae20",
   "metadata": {},
   "outputs": [
    {
     "name": "stdout",
     "output_type": "stream",
     "text": [
      "       longitude  latitude\n",
      "0        -122.23     37.88\n",
      "1        -122.22     37.86\n",
      "2        -122.24     37.85\n",
      "3        -122.25     37.85\n",
      "4        -122.25     37.85\n",
      "...          ...       ...\n",
      "20635    -121.09     39.48\n",
      "20636    -121.21     39.49\n",
      "20637    -121.22     39.43\n",
      "20638    -121.32     39.43\n",
      "20639    -121.24     39.37\n",
      "\n",
      "[20640 rows x 2 columns]\n"
     ]
    }
   ],
   "source": [
    "qustionlonglat=df[[\"longitude\",\"latitude\"]]\n",
    "print(qustionlonglat)"
   ]
  },
  {
   "cell_type": "code",
   "execution_count": 69,
   "id": "d2cfb47f-f3d9-4783-98bc-f93597b586ba",
   "metadata": {},
   "outputs": [],
   "source": [
    "qustionlonglat.to_csv(\"qustionlonglat.csv\")"
   ]
  },
  {
   "cell_type": "markdown",
   "id": "fe3f977c-711f-40c0-a69e-dc118ca2bef6",
   "metadata": {},
   "source": [
    "15-what is median income for people how is age is 41 ?"
   ]
  },
  {
   "cell_type": "code",
   "execution_count": 47,
   "id": "8e04dfe5-af56-44ca-8ea5-cb854465b264",
   "metadata": {},
   "outputs": [
    {
     "data": {
      "text/plain": [
       "3.1700574324324324"
      ]
     },
     "execution_count": 47,
     "metadata": {},
     "output_type": "execute_result"
    }
   ],
   "source": [
    "df[df[\"housing_median_age\"]==41.0][\"median_income\"].mean()"
   ]
  },
  {
   "cell_type": "code",
   "execution_count": 48,
   "id": "b0f7bce3-e3c6-46b1-b673-bc1549305e50",
   "metadata": {},
   "outputs": [
    {
     "name": "stdout",
     "output_type": "stream",
     "text": [
      "   housing_median_age\n",
      "0            3.170057\n"
     ]
    }
   ],
   "source": [
    "data = {\n",
    "  \"housing_median_age\":[3.1700574324324324],\n",
    "}\n",
    "\n",
    "#load data into a DataFrame object:\n",
    "qustion15 = pd.DataFrame(data)\n",
    "\n",
    "print(qustion15) "
   ]
  },
  {
   "cell_type": "code",
   "execution_count": 49,
   "id": "2332a153-1365-497a-b9d7-9e4102b56a20",
   "metadata": {},
   "outputs": [],
   "source": [
    "qustion15.to_csv(\"qustion15.csv\")"
   ]
  },
  {
   "cell_type": "code",
   "execution_count": 50,
   "id": "bcbcdb3f-f400-4ce2-8cf7-119ce812f965",
   "metadata": {},
   "outputs": [
    {
     "data": {
      "text/plain": [
       "3.889047446975648"
      ]
     },
     "execution_count": 50,
     "metadata": {},
     "output_type": "execute_result"
    }
   ],
   "source": [
    "df[df[\"housing_median_age\"]==52.0][\"median_income\"].mean()"
   ]
  },
  {
   "cell_type": "code",
   "execution_count": 70,
   "id": "54ff5eb8-326c-4769-a5d9-b16798be231d",
   "metadata": {},
   "outputs": [
    {
     "name": "stdout",
     "output_type": "stream",
     "text": [
      "   housing_median_age\n",
      "0            3.889047\n"
     ]
    }
   ],
   "source": [
    "data = {\n",
    "  \"housing_median_age\":[3.889047446975648],\n",
    "}\n",
    "\n",
    "#load data into a DataFrame object:\n",
    "question16 = pd.DataFrame(data)\n",
    "\n",
    "print(question16) "
   ]
  },
  {
   "cell_type": "code",
   "execution_count": 71,
   "id": "0c000146-efed-4f88-8ac4-ef04e9acda7b",
   "metadata": {},
   "outputs": [],
   "source": [
    "question16.to_csv(\"question16.csv\")"
   ]
  },
  {
   "cell_type": "code",
   "execution_count": 53,
   "id": "19676df6-246c-47d9-8898-3ae22e9533e1",
   "metadata": {},
   "outputs": [
    {
     "name": "stdout",
     "output_type": "stream",
     "text": [
      "2        190.0\n",
      "3        235.0\n",
      "4        280.0\n",
      "5        213.0\n",
      "6        489.0\n",
      "         ...  \n",
      "20142    320.0\n",
      "20220    420.0\n",
      "20236    112.0\n",
      "20237    343.0\n",
      "20592    160.0\n",
      "Name: total_bedrooms, Length: 1273, dtype: float64\n"
     ]
    }
   ],
   "source": [
    "question17=df[df[\"housing_median_age\"]==52][\"total_bedrooms\"]\n",
    "print(question17)"
   ]
  },
  {
   "cell_type": "code",
   "execution_count": 73,
   "id": "ae4deef0-d04e-4068-b87f-f6e11f22818a",
   "metadata": {},
   "outputs": [],
   "source": [
    "question17.to_csv(\"question17.csv\")"
   ]
  },
  {
   "cell_type": "code",
   "execution_count": 76,
   "id": "50367e03-b411-4c32-b0f6-b4c9a274e24b",
   "metadata": {},
   "outputs": [
    {
     "name": "stdout",
     "output_type": "stream",
     "text": [
      "131       210.0\n",
      "542       763.0\n",
      "654      1526.0\n",
      "656      1007.0\n",
      "755       419.0\n",
      "          ...  \n",
      "20600     367.0\n",
      "20603    1021.0\n",
      "20609     480.0\n",
      "20636     150.0\n",
      "20638     409.0\n",
      "Name: total_bedrooms, Length: 570, dtype: float64\n"
     ]
    }
   ],
   "source": [
    "quesstion18=df[df[\"housing_median_age\"]==18][\"total_bedrooms\"]\n",
    "print(quesstion18)"
   ]
  },
  {
   "cell_type": "code",
   "execution_count": 77,
   "id": "2d4eff21-eb2d-46c4-b447-50898c59cea8",
   "metadata": {},
   "outputs": [],
   "source": [
    "quesstion18.to_csv(\"quesstion18.csv\")"
   ]
  },
  {
   "cell_type": "code",
   "execution_count": null,
   "id": "5f9f78b2-b324-4069-b751-d3b0a7f40755",
   "metadata": {},
   "outputs": [],
   "source": []
  }
 ],
 "metadata": {
  "kernelspec": {
   "display_name": "Python 3 (ipykernel)",
   "language": "python",
   "name": "python3"
  },
  "language_info": {
   "codemirror_mode": {
    "name": "ipython",
    "version": 3
   },
   "file_extension": ".py",
   "mimetype": "text/x-python",
   "name": "python",
   "nbconvert_exporter": "python",
   "pygments_lexer": "ipython3",
   "version": "3.10.9"
  }
 },
 "nbformat": 4,
 "nbformat_minor": 5
}
